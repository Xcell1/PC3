{
 "cells": [
  {
   "attachments": {},
   "cell_type": "markdown",
   "id": "1edb4a65",
   "metadata": {},
   "source": [
    "# Web scrapeando información sobre equipos de eSports\n",
    "\n",
    "### Escrito por Jorge Quispe"
   ]
  },
  {
   "attachments": {},
   "cell_type": "markdown",
   "id": "32e5bba3",
   "metadata": {},
   "source": [
    "### Introducción\n",
    "\n",
    "##### Trabajaremos con la API de PandaScore, una página dedicada a brindar información sobre la escena gaming profesional. Esta posee una interfaz amigable, teniendo así una columna en la izquierda donde nos muestra instrucciones para principiantes y los distintos tipos de solicitudes que podemos hacer donde a medida que seleccionemos uno de estos tendremos una interfaz a la derecha donde aparecerá una plantilla de código que cambiará respecto a la información que añadas y en el lenguaje de programación que desees y por si fuera poco también cuenta con un botón de Modo Oscuro para quienes gustan trabajar así. Es necesario tener una cuenta, una vez te hayas reguistrado lo primero que te aparecerá será tu api key (token), esta tiene mucho tiempo por lo que no es necesario preocuparnos por si esta deja de ser válida. Puedes tener más información y registrarte <a href= https://developers.pandascore.co/>aquí</a>"
   ]
  },
  {
   "attachments": {},
   "cell_type": "markdown",
   "id": "ddcddde2",
   "metadata": {},
   "source": [
    "### Objetivo\n",
    "##### A partir de la liga coreana (LCK) de eSports de League of Legends (LoL) buscaré toda la información que se me pueda brindar acerca de cada jugador. La idea es poder visualizar cuántos equipos conforman la liga y qué información PandaScore nos brinda sobre cada jugador de este equipo."
   ]
  },
  {
   "attachments": {},
   "cell_type": "markdown",
   "id": "8b22042d",
   "metadata": {},
   "source": [
    "Importamos las librerias necesarias para el web scraping, Panda Score devuelve la información en formato JSON."
   ]
  },
  {
   "cell_type": "code",
   "execution_count": 2,
   "id": "7606ba23",
   "metadata": {},
   "outputs": [],
   "source": [
    "import requests\n",
    "import polars as pl\n",
    "import json"
   ]
  },
  {
   "attachments": {},
   "cell_type": "markdown",
   "id": "65ad26b5",
   "metadata": {},
   "source": [
    "Usando la sección de la columna izquierda antes mencionada (o usando su buscador) que nos interese, generaremos un link de referencia sobre lo que estemos buscando. \n",
    "\n",
    "A fin de lograr información actual busqué la serie más reciente de la LCK, la del 2023 que se dió en los primeros meses de este año. Según PandaScore, hallamos esto bajo la id \"5954\". Procedemos a seguir \"armando\" nuestro link.\n",
    "\n",
    "Una vez terminado guardamos el token y la url que generamos y las combinamos.\n",
    "\n",
    "NOTA: Cada API web tiene una manera para mencionar el argumento de que colocaremos nuestro token, PandaScore pide que esta sea <i>token=</i>, el signo anterior puede variar dependiendo de si es tu primer argumento ( <i>?</i> ) o no ( <i>&</i> )."
   ]
  },
  {
   "cell_type": "code",
   "execution_count": 3,
   "id": "d6fc22fe",
   "metadata": {},
   "outputs": [
    {
     "name": "stdout",
     "output_type": "stream",
     "text": [
      "https://api.pandascore.co/lol/series/5954/teams/?token=qM4aTj1RzAKr8NTAvP49Jz3RYl9bOdXcCI3VnojkKOJAqIymV_s\n"
     ]
    }
   ],
   "source": [
    "api_url = \"https://api.pandascore.co/lol/series/5954/teams/\"\n",
    "api_key = \"qM4aTj1RzAKr8NTAvP49Jz3RYl9bOdXcCI3VnojkKOJAqIymV_s\" #llamarlo como '.token='\n",
    "\n",
    "url = api_url + '?token=' + api_key\n",
    "print(url)"
   ]
  },
  {
   "attachments": {},
   "cell_type": "markdown",
   "id": "44871095",
   "metadata": {},
   "source": [
    "Creamos una request solicitando acceso a la url, si la respuesta del servidor es '200' significa que esta fue aceptada. "
   ]
  },
  {
   "cell_type": "code",
   "execution_count": 5,
   "id": "0830fa1e",
   "metadata": {},
   "outputs": [
    {
     "name": "stdout",
     "output_type": "stream",
     "text": [
      "<Response [200]>\n"
     ]
    }
   ],
   "source": [
    "req = requests.get(url)\n",
    "\n",
    "print(req)"
   ]
  },
  {
   "attachments": {},
   "cell_type": "markdown",
   "id": "0d952f47",
   "metadata": {},
   "source": [
    "Convertimos la información en un diccionario para que Python pueda leerlo. Para hacerlo mejor visible lo pasamos a un DataFrame. Visualizaremos mucha información sobre cada equipo de la LCK, que a simple vista notamos que la conforman 8."
   ]
  },
  {
   "cell_type": "code",
   "execution_count": 6,
   "id": "64c1de98",
   "metadata": {},
   "outputs": [
    {
     "name": "stdout",
     "output_type": "stream",
     "text": [
      "shape: (10, 9)\n",
      "┌─────────┬────────────┬────────┬────────────┬───┬───────────┬────────────┬────────────┬───────────┐\n",
      "│ acronym ┆ current_vi ┆ id     ┆ image_url  ┆ … ┆ modified_ ┆ name       ┆ players    ┆ slug      │\n",
      "│ ---     ┆ deogame    ┆ ---    ┆ ---        ┆   ┆ at        ┆ ---        ┆ ---        ┆ ---       │\n",
      "│ str     ┆ ---        ┆ i64    ┆ str        ┆   ┆ ---       ┆ str        ┆ list[struc ┆ str       │\n",
      "│         ┆ struct[3]  ┆        ┆            ┆   ┆ str       ┆            ┆ t[11]]     ┆           │\n",
      "╞═════════╪════════════╪════════╪════════════╪═══╪═══════════╪════════════╪════════════╪═══════════╡\n",
      "│ DK      ┆ {1,\"LoL\",\" ┆ 132531 ┆ https://cd ┆ … ┆ 2023-06-1 ┆ Dplus KIA  ┆ [{26,\"1996 ┆ dplus-kia │\n",
      "│         ┆ league-of- ┆        ┆ n.pandasco ┆   ┆ 7T14:26:2 ┆            ┆ -10-23\",\"K ┆           │\n",
      "│         ┆ legends\"}  ┆        ┆ re.co/imag ┆   ┆ 7Z        ┆            ┆ im\",2169,\" ┆           │\n",
      "│         ┆            ┆        ┆ es…        ┆   ┆           ┆            ┆ ht…        ┆           │\n",
      "│ KDF     ┆ {1,\"LoL\",\" ┆ 130063 ┆ https://cd ┆ … ┆ 2023-05-3 ┆ Kwangdong  ┆ [{22,\"2001 ┆ kwangdong │\n",
      "│         ┆ league-of- ┆        ┆ n.pandasco ┆   ┆ 1T21:09:5 ┆ Freecs     ┆ -03-08\",\"L ┆ -freecs   │\n",
      "│         ┆ legends\"}  ┆        ┆ re.co/imag ┆   ┆ 5Z        ┆            ┆ ee\",28341, ┆           │\n",
      "│         ┆            ┆        ┆ es…        ┆   ┆           ┆            ┆ \"h…        ┆           │\n",
      "│ BRO     ┆ {1,\"LoL\",\" ┆ 128218 ┆ https://cd ┆ … ┆ 2023-06-1 ┆ BRION      ┆ [{24,\"1999 ┆ fredit-br │\n",
      "│         ┆ league-of- ┆        ┆ n.pandasco ┆   ┆ 5T11:26:2 ┆            ┆ -06-01\",\"E ┆ ion       │\n",
      "│         ┆ legends\"}  ┆        ┆ re.co/imag ┆   ┆ 7Z        ┆            ┆ om\",1457,\" ┆           │\n",
      "│         ┆            ┆        ┆ es…        ┆   ┆           ┆            ┆ ht…        ┆           │\n",
      "│ NS      ┆ {1,\"LoL\",\" ┆ 128217 ┆ https://cd ┆ … ┆ 2023-06-1 ┆ Nongshim   ┆ [{20,\"2002 ┆ nongshim- │\n",
      "│         ┆ league-of- ┆        ┆ n.pandasco ┆   ┆ 8T13:22:3 ┆ Red Force  ┆ -08-25\",\"S ┆ red-force │\n",
      "│         ┆ legends\"}  ┆        ┆ re.co/imag ┆   ┆ 6Z        ┆            ┆ ong\",25363 ┆           │\n",
      "│         ┆            ┆        ┆ es…        ┆   ┆           ┆            ┆ ,\"…        ┆           │\n",
      "│ …       ┆ …          ┆ …      ┆ …          ┆ … ┆ …         ┆ …          ┆ …          ┆ …         │\n",
      "│ LSB     ┆ {1,\"LoL\",\" ┆ 75013  ┆ https://cd ┆ … ┆ 2023-05-3 ┆ Liiv       ┆ [{25,\"1998 ┆ sandbox-g │\n",
      "│         ┆ league-of- ┆        ┆ n.pandasco ┆   ┆ 1T21:09:5 ┆ SANDBOX    ┆ -03-15\",\"P ┆ aming     │\n",
      "│         ┆ legends\"}  ┆        ┆ re.co/imag ┆   ┆ 1Z        ┆            ┆ ark\",1456, ┆           │\n",
      "│         ┆            ┆        ┆ es…        ┆   ┆           ┆            ┆ \"h…        ┆           │\n",
      "│ HLE     ┆ {1,\"LoL\",\" ┆ 2883   ┆ https://cd ┆ … ┆ 2023-05-3 ┆ Hanwha     ┆ [{23,\"1999 ┆ hanwha-li │\n",
      "│         ┆ league-of- ┆        ┆ n.pandasco ┆   ┆ 1T21:09:5 ┆ Life       ┆ -07-07\",\"K ┆ fe-esport │\n",
      "│         ┆ legends\"}  ┆        ┆ re.co/imag ┆   ┆ 1Z        ┆ Esports    ┆ im\",1736,\" ┆ s         │\n",
      "│         ┆            ┆        ┆ es…        ┆   ┆           ┆            ┆ ht…        ┆           │\n",
      "│ GEN     ┆ {1,\"LoL\",\" ┆ 2882   ┆ https://cd ┆ … ┆ 2023-05-3 ┆ Gen.G      ┆ [{25,\"1998 ┆ geng      │\n",
      "│         ┆ league-of- ┆        ┆ n.pandasco ┆   ┆ 1T21:09:5 ┆            ┆ -02-03\",\"H ┆           │\n",
      "│         ┆ legends\"}  ┆        ┆ re.co/imag ┆   ┆ 0Z        ┆            ┆ an\",520,\"h ┆           │\n",
      "│         ┆            ┆        ┆ es…        ┆   ┆           ┆            ┆ tt…        ┆           │\n",
      "│ KT      ┆ {1,\"LoL\",\" ┆ 63     ┆ https://cd ┆ … ┆ 2023-05-3 ┆ KT Rolster ┆ [{24,\"1999 ┆ kt-rolste │\n",
      "│         ┆ league-of- ┆        ┆ n.pandasco ┆   ┆ 1T21:09:4 ┆            ┆ -03-01\",\"G ┆ r         │\n",
      "│         ┆ legends\"}  ┆        ┆ re.co/imag ┆   ┆ 9Z        ┆            ┆ wak\",1009, ┆           │\n",
      "│         ┆            ┆        ┆ es…        ┆   ┆           ┆            ┆ \"h…        ┆           │\n",
      "└─────────┴────────────┴────────┴────────────┴───┴───────────┴────────────┴────────────┴───────────┘\n"
     ]
    }
   ],
   "source": [
    "resp = req.json()\n",
    "#print(resp)\n",
    "df = pl.DataFrame(resp)\n",
    "print(df)"
   ]
  },
  {
   "attachments": {},
   "cell_type": "markdown",
   "id": "81ac92e1",
   "metadata": {},
   "source": [
    "Si se desean visualizar mejor el nombre de las columnas podemos usar:"
   ]
  },
  {
   "cell_type": "code",
   "execution_count": 7,
   "id": "01570c59",
   "metadata": {},
   "outputs": [
    {
     "name": "stdout",
     "output_type": "stream",
     "text": [
      "['acronym', 'current_videogame', 'id', 'image_url', 'location', 'modified_at', 'name', 'players', 'slug']\n"
     ]
    }
   ],
   "source": [
    "print(df.columns)"
   ]
  },
  {
   "attachments": {},
   "cell_type": "markdown",
   "id": "5e2f32b5",
   "metadata": {},
   "source": [
    "Jugaremos con dos columnas de nuestro DataFrame \"df\", <i>acronym</i> y <i>players</i>. La primera te pone las abreviación del nombre (acrónimo) del equipo  y la segunda información de los jugadores (en una lista de varios elementos). Haremos que la información sea concisa y estética colocando el acrónimo de cada equipo y abajo un DataFrame con la información sobre los jugadores que la conforman. También podíamos haber usado la variable 'name' en lugar de 'acronym' si se deseaba ver el nombre completo de los equipos. <br><br>\n",
    "El resultado es:"
   ]
  },
  {
   "cell_type": "code",
   "execution_count": 27,
   "id": "02a65476",
   "metadata": {},
   "outputs": [
    {
     "name": "stdout",
     "output_type": "stream",
     "text": [
      "DK\n",
      "shape: (6, 11)\n",
      "┌─────┬────────────┬────────────┬───────┬───┬───────────┬─────────────┬──────┬───────────┐\n",
      "│ age ┆ birthday   ┆ first_name ┆ id    ┆ … ┆ name      ┆ nationality ┆ role ┆ slug      │\n",
      "│ --- ┆ ---        ┆ ---        ┆ ---   ┆   ┆ ---       ┆ ---         ┆ ---  ┆ ---       │\n",
      "│ i64 ┆ str        ┆ str        ┆ i64   ┆   ┆ str       ┆ str         ┆ str  ┆ str       │\n",
      "╞═════╪════════════╪════════════╪═══════╪═══╪═══════════╪═════════════╪══════╪═══════════╡\n",
      "│ 26  ┆ 1996-10-23 ┆ Kim        ┆ 2169  ┆ … ┆ Deft      ┆ KR          ┆ adc  ┆ deft      │\n",
      "│ 22  ┆ 2000-07-22 ┆ Heo        ┆ 8166  ┆ … ┆ ShowMaker ┆ KR          ┆ mid  ┆ showmaker │\n",
      "│ 22  ┆ 2001-06-18 ┆ Kim        ┆ 18112 ┆ … ┆ Canyon    ┆ KR          ┆ jun  ┆ canyon    │\n",
      "│ 22  ┆ 2001-02-01 ┆ Kim        ┆ 19302 ┆ … ┆ Kellin    ┆ KR          ┆ sup  ┆ kellin    │\n",
      "│ 23  ┆ 2000-02-11 ┆ Kim        ┆ 24808 ┆ … ┆ Canna     ┆ KR          ┆ top  ┆ canna     │\n",
      "│ 19  ┆ 2004-02-13 ┆ Cho        ┆ 35024 ┆ … ┆ Rahel     ┆ KR          ┆ adc  ┆ rahel     │\n",
      "└─────┴────────────┴────────────┴───────┴───┴───────────┴─────────────┴──────┴───────────┘\n",
      "KDF\n",
      "shape: (6, 11)\n",
      "┌─────┬────────────┬────────────┬───────┬───┬──────────┬─────────────┬──────┬──────────────────┐\n",
      "│ age ┆ birthday   ┆ first_name ┆ id    ┆ … ┆ name     ┆ nationality ┆ role ┆ slug             │\n",
      "│ --- ┆ ---        ┆ ---        ┆ ---   ┆   ┆ ---      ┆ ---         ┆ ---  ┆ ---              │\n",
      "│ i64 ┆ str        ┆ str        ┆ i64   ┆   ┆ str      ┆ str         ┆ str  ┆ str              │\n",
      "╞═════╪════════════╪════════════╪═══════╪═══╪══════════╪═════════════╪══════╪══════════════════╡\n",
      "│ 22  ┆ 2001-03-08 ┆ Lee        ┆ 28341 ┆ … ┆ DuDu     ┆ KR          ┆ top  ┆ dudu-lee-dong-ju │\n",
      "│ 20  ┆ 2002-11-16 ┆ Ko         ┆ 28806 ┆ … ┆ YoungJae ┆ KR          ┆ jun  ┆ yeongjae         │\n",
      "│ 21  ┆ 2002-06-02 ┆ Tae-yoon   ┆ 31910 ┆ … ┆ Taeyoon  ┆ KR          ┆ adc  ┆ taeyoon          │\n",
      "│ 22  ┆ 2000-08-02 ┆ Se-joon    ┆ 31911 ┆ … ┆ Jun      ┆ KR          ┆ sup  ┆ jun-se-joon-yoon │\n",
      "│ 18  ┆ 2005-04-15 ┆ Lee        ┆ 35022 ┆ … ┆ BuLLDoG  ┆ KR          ┆ mid  ┆ bulldog          │\n",
      "│ 20  ┆ 2002-08-08 ┆ Jae-hun    ┆ 35859 ┆ … ┆ Moham    ┆ KR          ┆ sup  ┆ spgmoham         │\n",
      "└─────┴────────────┴────────────┴───────┴───┴──────────┴─────────────┴──────┴──────────────────┘\n",
      "BRO\n",
      "shape: (7, 11)\n",
      "┌─────┬────────────┬────────────┬───────┬───┬────────┬─────────────┬──────┬───────────────┐\n",
      "│ age ┆ birthday   ┆ first_name ┆ id    ┆ … ┆ name   ┆ nationality ┆ role ┆ slug          │\n",
      "│ --- ┆ ---        ┆ ---        ┆ ---   ┆   ┆ ---    ┆ ---         ┆ ---  ┆ ---           │\n",
      "│ i64 ┆ str        ┆ str        ┆ i64   ┆   ┆ str    ┆ str         ┆ str  ┆ str           │\n",
      "╞═════╪════════════╪════════════╪═══════╪═══╪════════╪═════════════╪══════╪═══════════════╡\n",
      "│ 24  ┆ 1999-06-01 ┆ Eom        ┆ 1457  ┆ … ┆ UmTi   ┆ KR          ┆ jun  ┆ umti          │\n",
      "│ 26  ┆ 1997-06-16 ┆ Choi       ┆ 8135  ┆ … ┆ Sw0rd  ┆ KR          ┆ top  ┆ sword         │\n",
      "│ 22  ┆ 2000-11-23 ┆ Lee        ┆ 8271  ┆ … ┆ Effort ┆ KR          ┆ sup  ┆ effort        │\n",
      "│ 21  ┆ 2001-09-26 ┆ Park       ┆ 21861 ┆ … ┆ Morgan ┆ KR          ┆ top  ┆ morgan        │\n",
      "│ 23  ┆ 1999-10-08 ┆ Park       ┆ 22986 ┆ … ┆ Hena   ┆ KR          ┆ adc  ┆ parkjeunghwan │\n",
      "│ 20  ┆ 2003-05-21 ┆ Kim        ┆ 31218 ┆ … ┆ Karis  ┆ KR          ┆ mid  ┆ karis         │\n",
      "│ 18  ┆ 2004-11-15 ┆ Jeon       ┆ 38343 ┆ … ┆ Raptor ┆ KR          ┆ jun  ┆ raptor        │\n",
      "└─────┴────────────┴────────────┴───────┴───┴────────┴─────────────┴──────┴───────────────┘\n",
      "NS\n",
      "shape: (7, 11)\n",
      "┌─────┬────────────┬────────────┬───────┬───┬────────┬─────────────┬──────┬────────────────────────┐\n",
      "│ age ┆ birthday   ┆ first_name ┆ id    ┆ … ┆ name   ┆ nationality ┆ role ┆ slug                   │\n",
      "│ --- ┆ ---        ┆ ---        ┆ ---   ┆   ┆ ---    ┆ ---         ┆ ---  ┆ ---                    │\n",
      "│ i64 ┆ str        ┆ str        ┆ i64   ┆   ┆ str    ┆ str         ┆ str  ┆ str                    │\n",
      "╞═════╪════════════╪════════════╪═══════╪═══╪════════╪═════════════╪══════╪════════════════════════╡\n",
      "│ 20  ┆ 2002-08-25 ┆ Song       ┆ 25363 ┆ … ┆ Quad   ┆ KR          ┆ mid  ┆ 119b0bf9-b178-4089-ad3 │\n",
      "│     ┆            ┆            ┆       ┆   ┆        ┆             ┆      ┆ 0-2df4632e…            │\n",
      "│ 20  ┆ 2002-09-16 ┆ Ha         ┆ 25415 ┆ … ┆ Vital  ┆ KR          ┆ adc  ┆ bowstring              │\n",
      "│ 20  ┆ 2003-05-18 ┆ Geun-woo   ┆ 31917 ┆ … ┆ DnDn   ┆ KR          ┆ top  ┆ dndn                   │\n",
      "│ 20  ┆ 2002-12-04 ┆ Seung-bok  ┆ 31918 ┆ … ┆ Sylvie ┆ KR          ┆ jun  ┆ sylvie                 │\n",
      "│ 20  ┆ 2003-05-04 ┆ Hyeon-seo  ┆ 31919 ┆ … ┆ FIESTA ┆ KR          ┆ mid  ┆ fiesta                 │\n",
      "│ 20  ┆ 2003-04-28 ┆ Jeong      ┆ 38363 ┆ … ┆ Peter  ┆ KR          ┆ sup  ┆ peter                  │\n",
      "│ 19  ┆ 2004-03-20 ┆ Jung       ┆ 42264 ┆ … ┆ Jiwoo  ┆ KR          ┆ adc  ┆ jiwoo                  │\n",
      "└─────┴────────────┴────────────┴───────┴───┴────────┴─────────────┴──────┴────────────────────────┘\n",
      "DRX\n",
      "shape: (7, 11)\n",
      "┌─────┬────────────┬────────────┬───────┬───┬─────────┬─────────────┬──────┬────────┐\n",
      "│ age ┆ birthday   ┆ first_name ┆ id    ┆ … ┆ name    ┆ nationality ┆ role ┆ slug   │\n",
      "│ --- ┆ ---        ┆ ---        ┆ ---   ┆   ┆ ---     ┆ ---         ┆ ---  ┆ ---    │\n",
      "│ i64 ┆ str        ┆ str        ┆ i64   ┆   ┆ str     ┆ str         ┆ str  ┆ str    │\n",
      "╞═════╪════════════╪════════════╪═══════╪═══╪═════════╪═════════════╪══════╪════════╡\n",
      "│ 25  ┆ 1997-10-16 ┆ Kim        ┆ 3419  ┆ … ┆ Rascal  ┆ KR          ┆ top  ┆ rascal │\n",
      "│ 22  ┆ 2000-08-22 ┆ Yoo        ┆ 8924  ┆ … ┆ FATE    ┆ KR          ┆ mid  ┆ fate   │\n",
      "│ 26  ┆ 1997-04-01 ┆ Cho        ┆ 15425 ┆ … ┆ BeryL   ┆ KR          ┆ sup  ┆ beryl  │\n",
      "│ 23  ┆ 2000-02-23 ┆ Kim        ┆ 19805 ┆ … ┆ Croco   ┆ KR          ┆ jun  ┆ croco  │\n",
      "│ 23  ┆ 2000-02-25 ┆ Seo        ┆ 22959 ┆ … ┆ deokdam ┆ KR          ┆ adc  ┆ feiz   │\n",
      "│ 21  ┆ 2001-08-31 ┆ Lee        ┆ 22991 ┆ … ┆ Juhan   ┆ KR          ┆ jun  ┆ salix  │\n",
      "│ 18  ┆ 2005-02-12 ┆ Park       ┆ 38341 ┆ … ┆ Paduck  ┆ KR          ┆ adc  ┆ paduck │\n",
      "└─────┴────────────┴────────────┴───────┴───┴─────────┴─────────────┴──────┴────────┘\n",
      "T1\n",
      "shape: (5, 11)\n",
      "┌─────┬────────────┬────────────┬───────┬───┬──────────┬─────────────┬──────┬──────────────────┐\n",
      "│ age ┆ birthday   ┆ first_name ┆ id    ┆ … ┆ name     ┆ nationality ┆ role ┆ slug             │\n",
      "│ --- ┆ ---        ┆ ---        ┆ ---   ┆   ┆ ---      ┆ ---         ┆ ---  ┆ ---              │\n",
      "│ i64 ┆ str        ┆ str        ┆ i64   ┆   ┆ str      ┆ str         ┆ str  ┆ str              │\n",
      "╞═════╪════════════╪════════════╪═══════╪═══╪══════════╪═════════════╪══════╪══════════════════╡\n",
      "│ 27  ┆ 1996-05-07 ┆ Lee        ┆ 585   ┆ … ┆ Faker    ┆ KR          ┆ mid  ┆ faker            │\n",
      "│ 20  ┆ 2002-10-14 ┆ Ryu        ┆ 8158  ┆ … ┆ Keria    ┆ KR          ┆ sup  ┆ keria            │\n",
      "│ 21  ┆ 2002-02-06 ┆ Lee        ┆ 19285 ┆ … ┆ Gumayusi ┆ KR          ┆ adc  ┆ gumayusi         │\n",
      "│ 19  ┆ 2004-01-31 ┆ Choi       ┆ 31391 ┆ … ┆ Zeus     ┆ KR          ┆ top  ┆ zeus-choi-woo-je │\n",
      "│ 20  ┆ 2002-12-24 ┆ Moon       ┆ 31392 ┆ … ┆ Oner     ┆ KR          ┆ jun  ┆ oner             │\n",
      "└─────┴────────────┴────────────┴───────┴───┴──────────┴─────────────┴──────┴──────────────────┘\n",
      "LSB\n",
      "shape: (5, 11)\n",
      "┌─────┬────────────┬────────────┬───────┬───┬────────┬─────────────┬──────┬─────────────────────┐\n",
      "│ age ┆ birthday   ┆ first_name ┆ id    ┆ … ┆ name   ┆ nationality ┆ role ┆ slug                │\n",
      "│ --- ┆ ---        ┆ ---        ┆ ---   ┆   ┆ ---    ┆ ---         ┆ ---  ┆ ---                 │\n",
      "│ i64 ┆ str        ┆ str        ┆ i64   ┆   ┆ str    ┆ str         ┆ str  ┆ str                 │\n",
      "╞═════╪════════════╪════════════╪═══════╪═══╪════════╪═════════════╪══════╪═════════════════════╡\n",
      "│ 25  ┆ 1998-03-15 ┆ Park       ┆ 1456  ┆ … ┆ Teddy  ┆ KR          ┆ adc  ┆ teddy               │\n",
      "│ 19  ┆ 2003-07-27 ┆ Lee        ┆ 28582 ┆ … ┆ Clozer ┆ KR          ┆ mid  ┆ closer-lee-ju-hyeon │\n",
      "│ 19  ┆ 2004-02-11 ┆ Kim        ┆ 31221 ┆ … ┆ Kael   ┆ KR          ┆ sup  ┆ khael-kim-jin-hong  │\n",
      "│ 19  ┆ 2003-12-25 ┆ Tae-Yoon   ┆ 32037 ┆ … ┆ Burdol ┆ KR          ┆ top  ┆ burdol              │\n",
      "│ 20  ┆ 2003-04-20 ┆ Kim        ┆ 35025 ┆ … ┆ Willer ┆ KR          ┆ jun  ┆ willer              │\n",
      "└─────┴────────────┴────────────┴───────┴───┴────────┴─────────────┴──────┴─────────────────────┘\n",
      "HLE\n",
      "shape: (5, 11)\n",
      "┌─────┬────────────┬────────────┬───────┬───┬────────┬─────────────┬──────┬────────────────────────┐\n",
      "│ age ┆ birthday   ┆ first_name ┆ id    ┆ … ┆ name   ┆ nationality ┆ role ┆ slug                   │\n",
      "│ --- ┆ ---        ┆ ---        ┆ ---   ┆   ┆ ---    ┆ ---         ┆ ---  ┆ ---                    │\n",
      "│ i64 ┆ str        ┆ str        ┆ i64   ┆   ┆ str    ┆ str         ┆ str  ┆ str                    │\n",
      "╞═════╪════════════╪════════════╪═══════╪═══╪════════╪═════════════╪══════╪════════════════════════╡\n",
      "│ 23  ┆ 1999-07-07 ┆ Kim        ┆ 1736  ┆ … ┆ Clid   ┆ KR          ┆ jun  ┆ clid                   │\n",
      "│ 23  ┆ 2000-03-11 ┆ Hwang      ┆ 8172  ┆ … ┆ Kingen ┆ KR          ┆ top  ┆ kingen                 │\n",
      "│ 22  ┆ 2000-10-19 ┆ Park       ┆ 8176  ┆ … ┆ Viper  ┆ KR          ┆ adc  ┆ viper-309f5be7-0007-49 │\n",
      "│     ┆            ┆            ┆       ┆   ┆        ┆             ┆      ┆ 2a-8d90-85…            │\n",
      "│ 22  ┆ 2000-07-07 ┆ Jeongmin   ┆ 15259 ┆ … ┆ Life   ┆ KR          ┆ sup  ┆ life-jeongmin-kim      │\n",
      "│ 20  ┆ 2002-11-28 ┆ Kim        ┆ 25391 ┆ … ┆ Zeka   ┆ KR          ┆ mid  ┆ zeka                   │\n",
      "└─────┴────────────┴────────────┴───────┴───┴────────┴─────────────┴──────┴────────────────────────┘\n",
      "GEN\n",
      "shape: (5, 11)\n",
      "┌─────┬────────────┬────────────┬───────┬───┬─────────┬─────────────┬──────┬───────────────────────┐\n",
      "│ age ┆ birthday   ┆ first_name ┆ id    ┆ … ┆ name    ┆ nationality ┆ role ┆ slug                  │\n",
      "│ --- ┆ ---        ┆ ---        ┆ ---   ┆   ┆ ---     ┆ ---         ┆ ---  ┆ ---                   │\n",
      "│ i64 ┆ str        ┆ str        ┆ i64   ┆   ┆ str     ┆ str         ┆ str  ┆ str                   │\n",
      "╞═════╪════════════╪════════════╪═══════╪═══╪═════════╪═════════════╪══════╪═══════════════════════╡\n",
      "│ 25  ┆ 1998-02-03 ┆ Han        ┆ 520   ┆ … ┆ Peanut  ┆ KR          ┆ jun  ┆ peanut                │\n",
      "│ 22  ┆ 2001-03-03 ┆ Jeong      ┆ 15000 ┆ … ┆ Chovy   ┆ KR          ┆ mid  ┆ chovy                 │\n",
      "│ 22  ┆ 2000-07-22 ┆ Choi       ┆ 19282 ┆ … ┆ Doran   ┆ KR          ┆ top  ┆ doran-2686e2c9-bd34-4 │\n",
      "│     ┆            ┆            ┆       ┆   ┆         ┆             ┆      ┆ 7fb-9d17-87…          │\n",
      "│ 20  ┆ 2002-09-12 ┆ Yoo        ┆ 31220 ┆ … ┆ Delight ┆ KR          ┆ sup  ┆ crescent              │\n",
      "│ 17  ┆ 2005-12-05 ┆ Kim        ┆ 38351 ┆ … ┆ Peyz    ┆ KR          ┆ adc  ┆ peyz                  │\n",
      "└─────┴────────────┴────────────┴───────┴───┴─────────┴─────────────┴──────┴───────────────────────┘\n",
      "KT\n",
      "shape: (5, 11)\n",
      "┌─────┬────────────┬────────────┬──────┬───┬─────────┬─────────────┬──────┬─────────┐\n",
      "│ age ┆ birthday   ┆ first_name ┆ id   ┆ … ┆ name    ┆ nationality ┆ role ┆ slug    │\n",
      "│ --- ┆ ---        ┆ ---        ┆ ---  ┆   ┆ ---     ┆ ---         ┆ ---  ┆ ---     │\n",
      "│ i64 ┆ str        ┆ str        ┆ i64  ┆   ┆ str     ┆ str         ┆ str  ┆ str     │\n",
      "╞═════╪════════════╪════════════╪══════╪═══╪═════════╪═════════════╪══════╪═════════╡\n",
      "│ 24  ┆ 1999-03-01 ┆ Gwak       ┆ 1009 ┆ … ┆ Bdd     ┆ KR          ┆ mid  ┆ bdd     │\n",
      "│ 24  ┆ 1998-12-24 ┆ Son        ┆ 1210 ┆ … ┆ Lehends ┆ KR          ┆ sup  ┆ lehends │\n",
      "│ 23  ┆ 1999-10-30 ┆ Moon       ┆ 1461 ┆ … ┆ Cuzz    ┆ KR          ┆ jun  ┆ cuzz    │\n",
      "│ 24  ┆ 1999-05-28 ┆ Kim        ┆ 3524 ┆ … ┆ Kiin    ┆ KR          ┆ top  ┆ kiin    │\n",
      "│ 22  ┆ 2000-07-20 ┆ Kim        ┆ 8171 ┆ … ┆ Aiming  ┆ KR          ┆ adc  ┆ aiming  │\n",
      "└─────┴────────────┴────────────┴──────┴───┴─────────┴─────────────┴──────┴─────────┘\n"
     ]
    }
   ],
   "source": [
    "contador = 0\n",
    "grupo = []\n",
    "for equipo in df['acronym']:\n",
    "    print(equipo)\n",
    "    for info in df['players'][contador]:\n",
    "        grupo.append(info)\n",
    "    grupo_df = pl.DataFrame(grupo)\n",
    "    print(grupo_df)\n",
    "    #print(grupo_df.columns)\n",
    "    contador += 1\n",
    "    grupo.clear()\n",
    "        "
   ]
  },
  {
   "attachments": {},
   "cell_type": "markdown",
   "id": "56e03859",
   "metadata": {},
   "source": [
    "También podemos precisar esa información solo para un equipo. En este caso seleccionamos al equipo Gen.G cuyo acrónimo es <i>GEN</i>."
   ]
  },
  {
   "cell_type": "code",
   "execution_count": 30,
   "id": "33e3dc95",
   "metadata": {},
   "outputs": [
    {
     "name": "stdout",
     "output_type": "stream",
     "text": [
      "GEN\n",
      "shape: (5, 11)\n",
      "┌─────┬────────────┬────────────┬───────┬───┬─────────┬─────────────┬──────┬───────────────────────┐\n",
      "│ age ┆ birthday   ┆ first_name ┆ id    ┆ … ┆ name    ┆ nationality ┆ role ┆ slug                  │\n",
      "│ --- ┆ ---        ┆ ---        ┆ ---   ┆   ┆ ---     ┆ ---         ┆ ---  ┆ ---                   │\n",
      "│ i64 ┆ str        ┆ str        ┆ i64   ┆   ┆ str     ┆ str         ┆ str  ┆ str                   │\n",
      "╞═════╪════════════╪════════════╪═══════╪═══╪═════════╪═════════════╪══════╪═══════════════════════╡\n",
      "│ 25  ┆ 1998-02-03 ┆ Han        ┆ 520   ┆ … ┆ Peanut  ┆ KR          ┆ jun  ┆ peanut                │\n",
      "│ 22  ┆ 2001-03-03 ┆ Jeong      ┆ 15000 ┆ … ┆ Chovy   ┆ KR          ┆ mid  ┆ chovy                 │\n",
      "│ 22  ┆ 2000-07-22 ┆ Choi       ┆ 19282 ┆ … ┆ Doran   ┆ KR          ┆ top  ┆ doran-2686e2c9-bd34-4 │\n",
      "│     ┆            ┆            ┆       ┆   ┆         ┆             ┆      ┆ 7fb-9d17-87…          │\n",
      "│ 20  ┆ 2002-09-12 ┆ Yoo        ┆ 31220 ┆ … ┆ Delight ┆ KR          ┆ sup  ┆ crescent              │\n",
      "│ 17  ┆ 2005-12-05 ┆ Kim        ┆ 38351 ┆ … ┆ Peyz    ┆ KR          ┆ adc  ┆ peyz                  │\n",
      "└─────┴────────────┴────────────┴───────┴───┴─────────┴─────────────┴──────┴───────────────────────┘\n",
      "['age', 'birthday', 'first_name', 'id', 'image_url', 'last_name', 'modified_at', 'name', 'nationality', 'role', 'slug']\n"
     ]
    }
   ],
   "source": [
    "contador = 0\n",
    "gen_g = []\n",
    "for equipo in df['acronym']:\n",
    "    if equipo == \"GEN\":\n",
    "        print(equipo)\n",
    "        for nombre in df['players'][contador]:\n",
    "            gen_g.append(nombre)\n",
    "    contador += 1\n",
    "\n",
    "gen_g_df = pl.DataFrame(gen_g)\n",
    "print(gen_g_df)\n",
    "print(gen_g_df.columns) #por si queremos visualizar las columnas"
   ]
  },
  {
   "attachments": {},
   "cell_type": "markdown",
   "id": "70cae633",
   "metadata": {},
   "source": [
    "Entonces hemos visto que podemos buscar y ordenar información con las APIs de PandaScore para que esta se nos presente concisa y estética. Así como obtuvimos la información de cada jugador de una liga clasificados por sus respectivos equipos, PandaScore nos ofrece información sobre los resultados de los enfrentamientos y más, para que podamos formular solicitudes de cada tipo, uniendo varias ligas, recogiendo el historial entre dos equipos con su información adicional (asesinatos, número de objetivos realizados, cantidad de oro obtenido, duración aproximada de cada partida) y más. La información ofrecida pueden servir tanto para fines de prática/estudio de estos temas como para llegar incluso a sentirte respaldado a la hora de apostar, eso sí, de optar por esta opción pido encarecidamente ser mayor de edad y jugar de manera responsable."
   ]
  }
 ],
 "metadata": {
  "kernelspec": {
   "display_name": "Python 3 (ipykernel)",
   "language": "python",
   "name": "python3"
  },
  "language_info": {
   "codemirror_mode": {
    "name": "ipython",
    "version": 3
   },
   "file_extension": ".py",
   "mimetype": "text/x-python",
   "name": "python",
   "nbconvert_exporter": "python",
   "pygments_lexer": "ipython3",
   "version": "3.10.9"
  }
 },
 "nbformat": 4,
 "nbformat_minor": 5
}
